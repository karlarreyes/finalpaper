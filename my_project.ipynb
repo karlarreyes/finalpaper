{
 "cells": [
  {
   "cell_type": "markdown",
   "id": "88bb9a7d",
   "metadata": {
    "jupyter": {
     "source_hidden": true
    }
   },
   "source": [
    "Before you turn this problem in, make sure everything runs as expected. First, **restart the kernel** (in the menubar, select Kernel $\\rightarrow$ Restart) and then **run all cells** (in the menubar, select Cell $\\rightarrow$ Run All).\n",
    "\n",
    "Make sure you fill in any place that says `YOUR CODE HERE` or \"YOUR ANSWER HERE\", as well as your name and collaborators below:"
   ]
  },
  {
   "cell_type": "code",
   "execution_count": null,
   "id": "b2ca2d6f",
   "metadata": {},
   "outputs": [],
   "source": [
    "NAME = \"Karla Reyes\"\n",
    "COLLABORATORS = \"Karla Reyes\""
   ]
  },
  {
   "cell_type": "markdown",
   "id": "d49f1254",
   "metadata": {},
   "source": [
    "---"
   ]
  },
  {
   "cell_type": "markdown",
   "id": "c1a08017",
   "metadata": {},
   "source": [
    "Before you turn this problem in, make sure everything runs as expected. First, **restart the kernel** (in the menubar, select Kernel $\\rightarrow$ Restart) and then **run all cells** (in the menubar, select Cell $\\rightarrow$ Run All).\n",
    "\n",
    "Make sure you fill in any place that says `YOUR CODE HERE` or \"YOUR ANSWER HERE\", as well as your name and collaborators below:"
   ]
  },
  {
   "cell_type": "code",
   "execution_count": null,
   "id": "f8756ad5",
   "metadata": {},
   "outputs": [],
   "source": [
    "NAME = \"Karla Reyes\"\n",
    "COLLABORATORS = \"Karla Reyes\""
   ]
  },
  {
   "cell_type": "code",
   "execution_count": null,
   "id": "f626bdd2-9bc1-4dc4-abcb-432a35f91a09",
   "metadata": {},
   "outputs": [],
   "source": [
    "## Project Name: Predicting Treatment for Heart Attack Patients"
   ]
  },
  {
   "cell_type": "code",
   "execution_count": 2,
   "id": "8e3e05a2-f3cd-4d37-8cc3-ca4fa80ce029",
   "metadata": {},
   "outputs": [
    {
     "name": "stdout",
     "output_type": "stream",
     "text": [
      "   Gender  Age  Blood Pressure (mmHg)  Cholesterol (mg/dL) Has Diabetes  \\\n",
      "0    Male   70                    181                  262           No   \n",
      "1  Female   55                    103                  253          Yes   \n",
      "2    Male   42                     95                  295          Yes   \n",
      "3    Male   84                    106                  270           No   \n",
      "4    Male   86                    187                  296          Yes   \n",
      "\n",
      "  Smoking Status   Chest Pain Type                            Treatment  \n",
      "0          Never    Typical Angina                    Lifestyle Changes  \n",
      "1          Never   Atypical Angina                          Angioplasty  \n",
      "2        Current    Typical Angina                          Angioplasty  \n",
      "3          Never   Atypical Angina  Coronary Artery Bypass Graft (CABG)  \n",
      "4        Current  Non-anginal Pain                           Medication  \n"
     ]
    }
   ],
   "source": [
    "# Import libraries\n",
    "\n",
    "import pandas as pd\n",
    "import numpy as np\n",
    "import matplotlib.pyplot as plt \n",
    "import seaborn as sns \n",
    "import random \n",
    "import sqlite3\n",
    "from sklearn.model_selection import train_test_split\n",
    "from sklearn.ensemble import RandomForestClassifier\n",
    "from sklearn.metrics import accuracy_score, classification_report\n",
    "from sklearn.preprocessing import StandardScaler\n",
    "from statsmodels.stats.outliers_influence import variance_inflation_factor\n",
    "from sqlalchemy import create_engine\n",
    "\n",
    "\n",
    "df= pd.read_csv('/home/krr110/heart_attack_dataset.csv')\n",
    "print(df.head())"
   ]
  },
  {
   "cell_type": "code",
   "execution_count": 4,
   "id": "209f26ad-4de9-4b23-8085-c662226ef597",
   "metadata": {
    "editable": true,
    "slideshow": {
     "slide_type": ""
    },
    "tags": []
   },
   "outputs": [
    {
     "data": {
      "text/html": [
       "<div>\n",
       "<style scoped>\n",
       "    .dataframe tbody tr th:only-of-type {\n",
       "        vertical-align: middle;\n",
       "    }\n",
       "\n",
       "    .dataframe tbody tr th {\n",
       "        vertical-align: top;\n",
       "    }\n",
       "\n",
       "    .dataframe thead th {\n",
       "        text-align: right;\n",
       "    }\n",
       "</style>\n",
       "<table border=\"1\" class=\"dataframe\">\n",
       "  <thead>\n",
       "    <tr style=\"text-align: right;\">\n",
       "      <th></th>\n",
       "      <th>Gender</th>\n",
       "      <th>Age</th>\n",
       "      <th>Blood Pressure (mmHg)</th>\n",
       "      <th>Cholesterol (mg/dL)</th>\n",
       "      <th>Has Diabetes</th>\n",
       "      <th>Smoking Status</th>\n",
       "      <th>Chest Pain Type</th>\n",
       "      <th>Treatment</th>\n",
       "    </tr>\n",
       "  </thead>\n",
       "  <tbody>\n",
       "    <tr>\n",
       "      <th>0</th>\n",
       "      <td>1</td>\n",
       "      <td>70</td>\n",
       "      <td>181</td>\n",
       "      <td>262</td>\n",
       "      <td>0</td>\n",
       "      <td>2</td>\n",
       "      <td>3</td>\n",
       "      <td>2</td>\n",
       "    </tr>\n",
       "    <tr>\n",
       "      <th>1</th>\n",
       "      <td>0</td>\n",
       "      <td>55</td>\n",
       "      <td>103</td>\n",
       "      <td>253</td>\n",
       "      <td>1</td>\n",
       "      <td>2</td>\n",
       "      <td>1</td>\n",
       "      <td>0</td>\n",
       "    </tr>\n",
       "    <tr>\n",
       "      <th>2</th>\n",
       "      <td>1</td>\n",
       "      <td>42</td>\n",
       "      <td>95</td>\n",
       "      <td>295</td>\n",
       "      <td>1</td>\n",
       "      <td>0</td>\n",
       "      <td>3</td>\n",
       "      <td>0</td>\n",
       "    </tr>\n",
       "    <tr>\n",
       "      <th>3</th>\n",
       "      <td>1</td>\n",
       "      <td>84</td>\n",
       "      <td>106</td>\n",
       "      <td>270</td>\n",
       "      <td>0</td>\n",
       "      <td>2</td>\n",
       "      <td>1</td>\n",
       "      <td>1</td>\n",
       "    </tr>\n",
       "    <tr>\n",
       "      <th>4</th>\n",
       "      <td>1</td>\n",
       "      <td>86</td>\n",
       "      <td>187</td>\n",
       "      <td>296</td>\n",
       "      <td>1</td>\n",
       "      <td>0</td>\n",
       "      <td>2</td>\n",
       "      <td>3</td>\n",
       "    </tr>\n",
       "    <tr>\n",
       "      <th>5</th>\n",
       "      <td>0</td>\n",
       "      <td>66</td>\n",
       "      <td>125</td>\n",
       "      <td>271</td>\n",
       "      <td>1</td>\n",
       "      <td>1</td>\n",
       "      <td>3</td>\n",
       "      <td>1</td>\n",
       "    </tr>\n",
       "    <tr>\n",
       "      <th>6</th>\n",
       "      <td>1</td>\n",
       "      <td>33</td>\n",
       "      <td>181</td>\n",
       "      <td>262</td>\n",
       "      <td>1</td>\n",
       "      <td>0</td>\n",
       "      <td>0</td>\n",
       "      <td>2</td>\n",
       "    </tr>\n",
       "    <tr>\n",
       "      <th>7</th>\n",
       "      <td>1</td>\n",
       "      <td>84</td>\n",
       "      <td>182</td>\n",
       "      <td>288</td>\n",
       "      <td>0</td>\n",
       "      <td>0</td>\n",
       "      <td>2</td>\n",
       "      <td>2</td>\n",
       "    </tr>\n",
       "    <tr>\n",
       "      <th>8</th>\n",
       "      <td>1</td>\n",
       "      <td>73</td>\n",
       "      <td>115</td>\n",
       "      <td>286</td>\n",
       "      <td>1</td>\n",
       "      <td>2</td>\n",
       "      <td>0</td>\n",
       "      <td>0</td>\n",
       "    </tr>\n",
       "    <tr>\n",
       "      <th>9</th>\n",
       "      <td>0</td>\n",
       "      <td>63</td>\n",
       "      <td>174</td>\n",
       "      <td>254</td>\n",
       "      <td>1</td>\n",
       "      <td>1</td>\n",
       "      <td>2</td>\n",
       "      <td>0</td>\n",
       "    </tr>\n",
       "  </tbody>\n",
       "</table>\n",
       "</div>"
      ],
      "text/plain": [
       "   Gender  Age  Blood Pressure (mmHg)  Cholesterol (mg/dL)  Has Diabetes  \\\n",
       "0       1   70                    181                  262             0   \n",
       "1       0   55                    103                  253             1   \n",
       "2       1   42                     95                  295             1   \n",
       "3       1   84                    106                  270             0   \n",
       "4       1   86                    187                  296             1   \n",
       "5       0   66                    125                  271             1   \n",
       "6       1   33                    181                  262             1   \n",
       "7       1   84                    182                  288             0   \n",
       "8       1   73                    115                  286             1   \n",
       "9       0   63                    174                  254             1   \n",
       "\n",
       "   Smoking Status  Chest Pain Type  Treatment  \n",
       "0               2                3          2  \n",
       "1               2                1          0  \n",
       "2               0                3          0  \n",
       "3               2                1          1  \n",
       "4               0                2          3  \n",
       "5               1                3          1  \n",
       "6               0                0          2  \n",
       "7               0                2          2  \n",
       "8               2                0          0  \n",
       "9               1                2          0  "
      ]
     },
     "execution_count": 4,
     "metadata": {},
     "output_type": "execute_result"
    }
   ],
   "source": [
    "# Data Cleaning \n",
    "# handling missing values \n",
    "\n",
    "missing_values = df.isnull().sum()\n",
    "missing_values\n",
    "\n",
    "# no missing values, but if we did have missing values, we would impute missing values with mean, median or mode\n",
    "df.fillna(df.mean(numeric_only=True))\n",
    "\n",
    "# next we can convert to categorical variables\n",
    "df['Gender']=df['Gender'].astype('category').cat.codes\n",
    "df['Has Diabetes']=df['Has Diabetes'].astype('category').cat.codes\n",
    "df['Smoking Status']=df['Smoking Status'].astype('category').cat.codes\n",
    "df['Chest Pain Type']=df['Chest Pain Type'].astype('category').cat.codes \n",
    "df['Treatment']=df['Treatment'].astype('category').cat.codes\n",
    "# For Gender, 1 is Male 0 is Female\n",
    "# For Smoking Status, 0 is Current, 1 is Former, 2 is Never\n",
    "# For Chest Pain, 0 is Asymptomatic, 1 is Atypical Angina, 2 is Non-anginal Pain, 3 is typical Angina \n",
    "df.head(10)\n",
    "\n"
   ]
  },
  {
   "cell_type": "code",
   "execution_count": 23,
   "id": "2c3434d4-9484-4217-92c4-54e097c5015d",
   "metadata": {},
   "outputs": [
    {
     "name": "stdout",
     "output_type": "stream",
     "text": [
      "                Features       VIF\n",
      "0                    Age  1.000014\n",
      "1  Blood Pressure (mmHg)  1.001979\n",
      "2    Cholesterol (mg/dL)  1.001971\n"
     ]
    }
   ],
   "source": [
    "# Normalizing numerical features to assure more accurate predictions\n",
    "numerical_features= ['Age', 'Blood Pressure (mmHg)', 'Cholesterol (mg/dL)']\n",
    "scaler=StandardScaler()\n",
    "df[numerical_features]= scaler.fit_transform(df[numerical_features])\n",
    "\n",
    "# for heart diseases, it is important to check for multicollinearity\n",
    "def calculate_vif(X):\n",
    "    vif_data=pd.DataFrame()\n",
    "    vif_data[\"Features\"]=X.columns\n",
    "    vif_data[\"VIF\"]=[variance_inflation_factor(X.values, i)\n",
    "                     for i in range(X.shape[1])]\n",
    "    return vif_data\n",
    "\n",
    "vif_df= calculate_vif(df[numerical_features])\n",
    "print(vif_df)"
   ]
  },
  {
   "cell_type": "markdown",
   "id": "385a1a27",
   "metadata": {},
   "source": [
    "---"
   ]
  },
  {
   "cell_type": "code",
   "execution_count": 30,
   "id": "f15b4381-cb98-4b77-b935-5d01e82e6c95",
   "metadata": {},
   "outputs": [
    {
     "data": {
      "image/png": "[encoded data removed]",
      "text/plain": [
       "<Figure size 1000x600 with 1 Axes>"
      ]
     },
     "metadata": {},
     "output_type": "display_data"
    }
   ],
   "source": [
    "# Lets do some data analysis \n",
    "# Lets see the distribution for gender\n",
    "plt.figure(figsize=(10, 6))\n",
    "sns.countplot(x='Gender', data=df)\n",
    "plt.title('Gender Distribution')\n",
    "plt.xlabel('Gender')\n",
    "plt.ylabel('Count')\n",
    "plt.show()"
   ]
  },
  {
   "cell_type": "code",
   "execution_count": 31,
   "id": "6033bd26-8cc3-4a1c-9bcd-adb7288b680f",
   "metadata": {},
   "outputs": [
    {
     "data": {
      "image/png": "[encoded data removed]",
      "text/plain": [
       "<Figure size 1000x600 with 1 Axes>"
      ]
     },
     "metadata": {},
     "output_type": "display_data"
    }
   ],
   "source": [
    "# Distribution of Diabetes \n",
    "plt.figure(figsize=(10, 6))\n",
    "sns.countplot(x='Has Diabetes', data=df)\n",
    "plt.title('Has Diabetes Distribution')\n",
    "plt.xlabel('Has Diabetes')\n",
    "plt.ylabel('Count')\n",
    "plt.show()"
   ]
  },
  {
   "cell_type": "code",
   "execution_count": 25,
   "id": "dfbc0416-ce84-4697-a802-321757b4e664",
   "metadata": {},
   "outputs": [
    {
     "data": {
      "image/png": "[encoded data removed]",
      "text/plain": [
       "<Figure size 1200x700 with 1 Axes>"
      ]
     },
     "metadata": {},
     "output_type": "display_data"
    }
   ],
   "source": [
    "#Distribution of Cholesterol by Gender\n",
    "plt.figure(figsize=(12,7))\n",
    "sns.boxplot(x='Gender',y='Cholesterol (mg/dL)',data=df)\n",
    "plt.title('Cholesterol Distribution by Gender')\n",
    "plt.xlabel('Gender')\n",
    "plt.ylabel('Cholesterol (mg/dL)')\n",
    "plt.xticks(ticks=[0,1],labels=['Female','Male'])\n",
    "plt.show()"
   ]
  },
  {
   "cell_type": "code",
   "execution_count": 5,
   "id": "6cc712ef-95ad-48eb-bb35-17393e426f78",
   "metadata": {},
   "outputs": [
    {
     "data": {
      "image/png": "[encoded data removed]",
      "text/plain": [
       "<Figure size 1400x600 with 1 Axes>"
      ]
     },
     "metadata": {},
     "output_type": "display_data"
    }
   ],
   "source": [
    "plt.figure(figsize=(14,6))\n",
    "sns.boxplot(x=df['Smoking Status'],y=df.Age,data=df)\n",
    "plt.title(\"Smoking Status vs Age plot\")\n",
    "plt.xlabel(\"Smoking Status\")\n",
    "plt.ylabel(\"Age\")\n",
    "plt.xticks([0,1, 2], ['Current', 'Former','Never'])\n",
    "plt.show() #Smoking Status vs Age plot"
   ]
  },
  {
   "cell_type": "code",
   "execution_count": null,
   "id": "0ac3d2c6-f8a4-4cfc-9b74-6675631fa079",
   "metadata": {},
   "outputs": [],
   "source": [
    "plt.figure(figsize=(14,7))\n",
    "sns.scatterplot(x=df['Age'],y=df['Blood Pressure (mmHg)'],hue='Gender',data=df)\n",
    "plt.title(\"Age vs Blood Pressure 0-Female 1-Male\")\n",
    "plt.xlabel(\"Age\")\n",
    "plt.ylabel(\"Blood Pressure (mmHg)\")\n",
    "plt.show() "
   ]
  },
  {
   "cell_type": "code",
   "execution_count": null,
   "id": "4832128d-013d-46e0-9486-0d7ba00c36e7",
   "metadata": {},
   "outputs": [],
   "source": [
    "plt.figure(figsize=(14,7))\n",
    "sns.scatterplot(x=df['Age'],y=df['Cholesterol (mg/dL)'],hue='Gender',data=df)\n",
    "plt.title(\"Age vs Cholesterol (mg/dL) 0-Female 1-Male\")\n",
    "plt.xlabel(\"Age\")\n",
    "plt.ylabel(\"Cholesterol (mg/dL)\")\n",
    "plt.show()"
   ]
  },
  {
   "cell_type": "code",
   "execution_count": null,
   "id": "2281ec4e-f737-4f0c-8afa-2e7d490877a8",
   "metadata": {},
   "outputs": [],
   "source": [
    "# Lets create a heatmap to portray the correlation between each column \n",
    "sns.heatmap(df.corr(),annot=True)\n",
    "plt.show() \n"
   ]
  },
  {
   "cell_type": "code",
   "execution_count": 9,
   "id": "81421e65-5d09-4583-887d-2de650353bbe",
   "metadata": {
    "editable": true,
    "slideshow": {
     "slide_type": ""
    },
    "tags": []
   },
   "outputs": [
    {
     "name": "stdout",
     "output_type": "stream",
     "text": [
      "Accuracy: 0.235\n",
      "\n",
      "Classification Report:\n",
      "               precision    recall  f1-score   support\n",
      "\n",
      "           0       0.20      0.21      0.20        48\n",
      "           1       0.19      0.19      0.19        47\n",
      "           2       0.22      0.27      0.24        52\n",
      "           3       0.37      0.26      0.31        53\n",
      "\n",
      "    accuracy                           0.23       200\n",
      "   macro avg       0.24      0.23      0.24       200\n",
      "weighted avg       0.25      0.23      0.24       200\n",
      "\n",
      "RandomForestClassifier(random_state=42)\n",
      "R^2 Score: 0.235\n"
     ]
    }
   ],
   "source": [
    "# now we want to start doing prediction. Given this dataset, our predictions would be Treatment Prediction based on 7 variables\n",
    "# predicting best treatment type based on certain predictors \n",
    "X = df.drop(columns=['Treatment'])  # Features\n",
    "y = df['Treatment']  # Target\n",
    "\n",
    "# Split the data into training and testing sets\n",
    "X_train, X_test, y_train, y_test = train_test_split(X, y, test_size=0.2, random_state=42)\n",
    "\n",
    "# Train a Random Forest Classifier\n",
    "model = RandomForestClassifier(random_state=42)\n",
    "model.fit(X_train, y_train)\n",
    "\n",
    "# Make predictions\n",
    "y_pred = model.predict(X_test)\n",
    "\n",
    "# Evaluate the model\n",
    "print(\"Accuracy:\", accuracy_score(y_test, y_pred))\n",
    "print(\"\\nClassification Report:\\n\", classification_report(y_test, y_pred))\n",
    "\n",
    "print(model)\n",
    "\n",
    "y_pred = model.predict(X_test)\n",
    "\n",
    "r2_score = model.score(X_test, y_test)\n",
    "print(\"R^2 Score:\", r2_score)\n"
   ]
  },
  {
   "cell_type": "code",
   "execution_count": null,
   "id": "3e92db1e-63e4-4a5a-b0b5-457d52a1e3f6",
   "metadata": {},
   "outputs": [],
   "source": [
    "# given our low R^2 value, our prediction model isn't very good in predicting what best treatment fits someone based on different heart attack risk factors. \n"
   ]
  }
 ],
 "metadata": {
  "kernelspec": {
   "display_name": "Python 3 (ipykernel)",
   "language": "python",
   "name": "python3"
  },
  "language_info": {
   "codemirror_mode": {
    "name": "ipython",
    "version": 3
   },
   "file_extension": ".py",
   "mimetype": "text/x-python",
   "name": "python",
   "nbconvert_exporter": "python",
   "pygments_lexer": "ipython3",
   "version": "3.12.2"
  },
  "toc": {
   "base_numbering": -1
  }
 },
 "nbformat": 4,
 "nbformat_minor": 5
}
